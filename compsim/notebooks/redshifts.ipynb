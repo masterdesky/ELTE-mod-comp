{
 "cells": [
  {
   "cell_type": "code",
   "execution_count": null,
   "id": "22b07041-e9bb-4d3d-91f0-f45ee713240b",
   "metadata": {},
   "outputs": [],
   "source": [
    "import numpy as np\n",
    "from astropy import units as u\n",
    "from astropy.cosmology import z_at_value\n",
    "from astropy.cosmology import Planck18 as cosmo\n",
    "\n",
    "import matplotlib.pyplot as plt"
   ]
  },
  {
   "cell_type": "code",
   "execution_count": null,
   "id": "41a04510-8e82-4b2e-97e2-eb60ec0302d0",
   "metadata": {},
   "outputs": [],
   "source": [
    "# Define the start and end redshifts\n",
    "z_start = 63\n",
    "z_end = 1e-6"
   ]
  },
  {
   "cell_type": "code",
   "execution_count": null,
   "id": "801a6a4b-8775-49b6-a746-573a8c33ffb4",
   "metadata": {},
   "outputs": [],
   "source": [
    "# Number of snapshots (M)\n",
    "M = 10\n",
    "\n",
    "# Calculate the age of the universe at the start and end redshifts\n",
    "# Note: Astropy might not handle negative redshifts as expected, so this is illustrative\n",
    "age_start = cosmo.age(z_start).to(u.Gyr).value  # in Gyr\n",
    "age_end = cosmo.age(z_end).to(u.Gyr).value  # in Gyr\n",
    "\n",
    "# Divide the total time range into M-1 even intervals\n",
    "time_intervals = np.linspace(age_start, age_end, M)\n",
    "\n",
    "# For each time interval, find the corresponding redshift\n",
    "redshifts = [float(z_at_value(cosmo.age, age * u.Gyr)) for age in time_intervals]"
   ]
  },
  {
   "cell_type": "code",
   "execution_count": null,
   "id": "153ae328-817b-4df2-8ab4-f5e21bce5cf7",
   "metadata": {},
   "outputs": [],
   "source": [
    "def a_to_z(a, a0=1):\n",
    "    return a0/a - 1\n",
    "def z_to_a(z, a0=1):\n",
    "    return a0 / (z + 1)"
   ]
  },
  {
   "cell_type": "code",
   "execution_count": null,
   "id": "df920f15-0db3-4e65-a407-6c3e2519dd2b",
   "metadata": {},
   "outputs": [],
   "source": [
    "a_list = np.linspace(z_to_a(z_start), z_to_a(z_end), 192)\n",
    "z_list = a_to_z(a_list)"
   ]
  },
  {
   "cell_type": "code",
   "execution_count": null,
   "id": "066aa92f-ea99-4121-8a3b-17f81395b3c1",
   "metadata": {},
   "outputs": [],
   "source": [
    "target_redshifts = np.array(redshifts)\n",
    "simulation_redshifts = np.array(z_list)"
   ]
  },
  {
   "cell_type": "code",
   "execution_count": null,
   "id": "8a3559cb-9bfd-4e7f-b0fd-b9efd1852e1a",
   "metadata": {},
   "outputs": [],
   "source": [
    "# Function to find the index of the closest snapshot\n",
    "def find_closest_snapshot_indices(target_redshifts, simulation_redshifts):\n",
    "    closest_indices = []\n",
    "    for target_z in target_redshifts:\n",
    "        # Calculate the absolute difference\n",
    "        differences = np.abs(simulation_redshifts - target_z)\n",
    "        \n",
    "        # Find the index of the minimum difference\n",
    "        closest_index = np.argmin(differences)\n",
    "        closest_indices.append(closest_index)\n",
    "    \n",
    "    return closest_indices"
   ]
  },
  {
   "cell_type": "code",
   "execution_count": null,
   "id": "4b325d72-c804-41e8-8e4f-181e23d64c3c",
   "metadata": {},
   "outputs": [],
   "source": [
    "closest_snapshot_indices = find_closest_snapshot_indices(target_redshifts, simulation_redshifts)"
   ]
  },
  {
   "cell_type": "code",
   "execution_count": null,
   "id": "cf7637b8-35e7-444e-abf8-f0738f7a0167",
   "metadata": {},
   "outputs": [],
   "source": []
  }
 ],
 "metadata": {
  "kernelspec": {
   "display_name": "Python 3 (ipykernel)",
   "language": "python",
   "name": "python3"
  },
  "language_info": {
   "codemirror_mode": {
    "name": "ipython",
    "version": 3
   },
   "file_extension": ".py",
   "mimetype": "text/x-python",
   "name": "python",
   "nbconvert_exporter": "python",
   "pygments_lexer": "ipython3",
   "version": "3.11.6"
  }
 },
 "nbformat": 4,
 "nbformat_minor": 5
}

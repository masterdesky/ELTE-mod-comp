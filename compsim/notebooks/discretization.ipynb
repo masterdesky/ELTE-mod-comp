{
 "cells": [
  {
   "cell_type": "code",
   "execution_count": null,
   "id": "cbce6e33-4468-4b12-918e-02475958ad12",
   "metadata": {},
   "outputs": [],
   "source": [
    "import numpy as np\n",
    "import matplotlib.pyplot as plt"
   ]
  },
  {
   "cell_type": "code",
   "execution_count": null,
   "id": "0754e7e8-077b-4412-a930-1a8bc9a7fdb0",
   "metadata": {},
   "outputs": [],
   "source": [
    "for axis in ['xtick', 'ytick']:\n",
    "    plt.rcParams[f'{axis}.direction'] = 'in'\n",
    "    plt.rcParams[f'{axis}.major.width'] = 1.5\n",
    "    plt.rcParams[f'{axis}.minor.width'] = 1.5\n",
    "    plt.rcParams[f'{axis}.major.size'] = 6\n",
    "    plt.rcParams[f'{axis}.minor.size'] = 4\n",
    "plt.rcParams['xtick.top'] = True\n",
    "plt.rcParams['xtick.bottom'] = True\n",
    "plt.rcParams['ytick.left'] = True\n",
    "plt.rcParams['ytick.right'] = True\n",
    "plt.rcParams['axes.linewidth'] = 1.5"
   ]
  },
  {
   "cell_type": "markdown",
   "id": "2b09d568-7afa-4a08-9d61-cfb139dc8902",
   "metadata": {},
   "source": [
    "## Grid resolution"
   ]
  },
  {
   "cell_type": "code",
   "execution_count": null,
   "id": "5e0efb9d-17ea-4a4b-aa1a-e5dd92718686",
   "metadata": {},
   "outputs": [],
   "source": [
    "import noise"
   ]
  },
  {
   "cell_type": "code",
   "execution_count": null,
   "id": "663ec587-10de-4811-a395-f00b2215bd8d",
   "metadata": {},
   "outputs": [],
   "source": [
    "def get_noise(Nx, Ny, scale, octaves, persistence, lacunarity):\n",
    "    \n",
    "    x = np.linspace(0, 1, Nx)\n",
    "    y = np.linspace(0, 1, Ny)\n",
    "    world = np.zeros((Nx, Ny))\n",
    "    for i, xi in enumerate(x):\n",
    "        for j, yi in enumerate(y):\n",
    "            world[i][j] = noise.pnoise2(\n",
    "                    xi, yi,\n",
    "                    octaves=octaves,\n",
    "                    persistence=persistence,\n",
    "                    lacunarity=lacunarity,\n",
    "                    repeatx=Nx,\n",
    "                    repeaty=Ny,\n",
    "                    base=0\n",
    "            )\n",
    "    return world"
   ]
  },
  {
   "cell_type": "code",
   "execution_count": null,
   "id": "eae15eb0-9733-4da7-a9a7-320f008fad62",
   "metadata": {},
   "outputs": [],
   "source": [
    "world_sd = get_noise(10, 10, scale=100, octaves=6, persistence=0.5, lacunarity=2.0)\n",
    "world_hd = get_noise(100, 100, scale=100, octaves=6, persistence=0.5, lacunarity=2.0)"
   ]
  },
  {
   "cell_type": "code",
   "execution_count": null,
   "id": "5b89a22e-8af9-44cf-8ac9-0ea78e711f2f",
   "metadata": {},
   "outputs": [],
   "source": [
    "nr, nc = 1, 2\n",
    "fig, axes = plt.subplots(nr, nc, figsize=(nc*4, nr*4), facecolor='none')\n",
    "\n",
    "for ax in axes:\n",
    "    ax.set_aspect('equal', 'box')\n",
    "\n",
    "ax = axes[0]\n",
    "ax.imshow(world_sd, extent=[0, 1, 0, 1])\n",
    "ax.set_title('$N = 10^{2}$')\n",
    "\n",
    "ax = axes[1]\n",
    "ax.imshow(world_hd, extent=[0, 1, 0, 1])\n",
    "ax.set_title('$N = 100^{2}$')\n",
    "\n",
    "plt.savefig('./grid-resolution.png', dpi=180, bbox_inches='tight')\n",
    "\n",
    "plt.show()"
   ]
  },
  {
   "cell_type": "markdown",
   "id": "f8e02dbe-8364-42f6-a384-fbbf6c8a91ad",
   "metadata": {},
   "source": [
    "## Particle resolution"
   ]
  },
  {
   "cell_type": "code",
   "execution_count": null,
   "id": "8816b329-63c8-4a34-b816-556d4132d315",
   "metadata": {},
   "outputs": [],
   "source": [
    "X_sd = np.random.uniform(size=(100, 2))\n",
    "X_hd = np.random.uniform(size=(10000, 2))"
   ]
  },
  {
   "cell_type": "code",
   "execution_count": null,
   "id": "c9ca819a-0c02-4bea-b02a-b12215ff66b6",
   "metadata": {},
   "outputs": [],
   "source": [
    "nr, nc = 1, 2\n",
    "fig, axes = plt.subplots(nr, nc, figsize=(nc*4, nr*4), facecolor='none')\n",
    "\n",
    "for ax in axes:\n",
    "    ax.set_aspect('equal', 'box')\n",
    "    ax.set_xlim(0, 1)\n",
    "    ax.set_ylim(0, 1)\n",
    "\n",
    "ax = axes[0]\n",
    "ax.scatter(*X_sd.T, s=49, alpha=0.7)\n",
    "ax.set_title('$N = 100$')\n",
    "\n",
    "ax = axes[1]\n",
    "ax.scatter(*X_hd.T, s=4, alpha=0.7)\n",
    "ax.set_title('$N = 10\\,000$')\n",
    "\n",
    "plt.savefig('./part-resolution.png', dpi=180, bbox_inches='tight')\n",
    "\n",
    "plt.show()"
   ]
  },
  {
   "cell_type": "code",
   "execution_count": null,
   "id": "dfdaea91-4168-41c7-b7de-02805086edea",
   "metadata": {},
   "outputs": [],
   "source": []
  }
 ],
 "metadata": {
  "kernelspec": {
   "display_name": "Python 3 (ipykernel)",
   "language": "python",
   "name": "python3"
  },
  "language_info": {
   "codemirror_mode": {
    "name": "ipython",
    "version": 3
   },
   "file_extension": ".py",
   "mimetype": "text/x-python",
   "name": "python",
   "nbconvert_exporter": "python",
   "pygments_lexer": "ipython3",
   "version": "3.11.6"
  }
 },
 "nbformat": 4,
 "nbformat_minor": 5
}

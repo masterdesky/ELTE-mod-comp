{
 "cells": [
  {
   "cell_type": "code",
   "execution_count": 18,
   "id": "22b07041-e9bb-4d3d-91f0-f45ee713240b",
   "metadata": {},
   "outputs": [],
   "source": [
    "import numpy as np\n",
    "from astropy import units as u\n",
    "from astropy.cosmology import z_at_value\n",
    "from astropy.cosmology import Planck18 as cosmo\n",
    "\n",
    "import matplotlib.pyplot as plt"
   ]
  },
  {
   "cell_type": "code",
   "execution_count": 50,
   "id": "41a04510-8e82-4b2e-97e2-eb60ec0302d0",
   "metadata": {},
   "outputs": [],
   "source": [
    "# Define the start and end redshifts\n",
    "z_start = 63\n",
    "z_end = 0.0"
   ]
  },
  {
   "cell_type": "code",
   "execution_count": 44,
   "id": "801a6a4b-8775-49b6-a746-573a8c33ffb4",
   "metadata": {},
   "outputs": [
    {
     "name": "stdout",
     "output_type": "stream",
     "text": [
      "[63.00000026721415, 3.9492826692303487, 2.1231035360556003, 1.3665512596185188, 0.9300876010731783, 0.6365126697994461, 0.42047440186913365, 0.25186675064589187, 0.11478518133745827, 1.000006931662649e-06]\n"
     ]
    }
   ],
   "source": [
    "# Number of snapshots (M)\n",
    "M = 10\n",
    "\n",
    "# Calculate the age of the universe at the start and end redshifts\n",
    "# Note: Astropy might not handle negative redshifts as expected, so this is illustrative\n",
    "age_start = cosmo.age(z_start).to(u.Gyr).value  # in Gyr\n",
    "age_end = cosmo.age(z_end).to(u.Gyr).value  # in Gyr\n",
    "\n",
    "# Divide the total time range into M-1 even intervals\n",
    "time_intervals = np.linspace(age_start, age_end, M)\n",
    "\n",
    "# For each time interval, find the corresponding redshift\n",
    "redshifts = [float(z_at_value(cosmo.age, age * u.Gyr)) for age in time_intervals]\n",
    "\n",
    "# Print the redshifts corresponding to the time intervals\n",
    "print(redshifts)"
   ]
  },
  {
   "cell_type": "code",
   "execution_count": 45,
   "id": "cf3160a4-b35a-40cb-8465-72aeb8029f83",
   "metadata": {},
   "outputs": [
    {
     "data": {
      "text/plain": [
       "[63.00000026721415,\n",
       " 3.9492826692303487,\n",
       " 2.1231035360556003,\n",
       " 1.3665512596185188,\n",
       " 0.9300876010731783,\n",
       " 0.6365126697994461,\n",
       " 0.42047440186913365,\n",
       " 0.25186675064589187,\n",
       " 0.11478518133745827,\n",
       " 1.000006931662649e-06]"
      ]
     },
     "execution_count": 45,
     "metadata": {},
     "output_type": "execute_result"
    }
   ],
   "source": [
    "redshifts"
   ]
  },
  {
   "cell_type": "code",
   "execution_count": 46,
   "id": "153ae328-817b-4df2-8ab4-f5e21bce5cf7",
   "metadata": {},
   "outputs": [],
   "source": [
    "def a_to_z(a, a0=1):\n",
    "    return a0/a - 1\n",
    "def z_to_a(z, a0=1):\n",
    "    return a0 / (z + 1)"
   ]
  },
  {
   "cell_type": "code",
   "execution_count": 51,
   "id": "df920f15-0db3-4e65-a407-6c3e2519dd2b",
   "metadata": {},
   "outputs": [],
   "source": [
    "a_list = np.linspace(z_to_a(z_start), z_to_a(z_end), 192)\n",
    "z_list = a_to_z(a_list)"
   ]
  },
  {
   "cell_type": "code",
   "execution_count": 52,
   "id": "9d462b8a-92a1-4c38-bad4-765301f67737",
   "metadata": {},
   "outputs": [
    {
     "data": {
      "text/plain": [
       "array([6.30000000e+01, 4.71259843e+01, 3.75615142e+01, 3.11684211e+01,\n",
       "       2.65936795e+01, 2.31581028e+01, 2.04833040e+01, 1.83417722e+01,\n",
       "       1.65884892e+01, 1.51266491e+01, 1.38891596e+01, 1.28280543e+01,\n",
       "       1.19081309e+01, 1.11029703e+01, 1.03923579e+01, 9.76056338e+00,\n",
       "       9.19516264e+00, 8.68621236e+00, 8.22566038e+00, 7.80691643e+00,\n",
       "       7.42453480e+00, 7.07397622e+00, 6.75142676e+00, 6.45365854e+00,\n",
       "       6.17792132e+00, 5.92185730e+00, 5.68343357e+00, 5.46088795e+00,\n",
       "       5.25268542e+00, 5.05748266e+00, 4.87409899e+00, 4.70149254e+00,\n",
       "       4.53874037e+00, 4.38502203e+00, 4.23960566e+00, 4.10183639e+00,\n",
       "       3.97112647e+00, 3.84694687e+00, 3.72882012e+00, 3.61631420e+00,\n",
       "       3.50903726e+00, 3.40663302e+00, 3.30877688e+00, 3.21517241e+00,\n",
       "       3.12554843e+00, 3.03965631e+00, 2.95726772e+00, 2.87817259e+00,\n",
       "       2.80217729e+00, 2.72910311e+00, 2.65878479e+00, 2.59106933e+00,\n",
       "       2.52581483e+00, 2.46288952e+00, 2.40217089e+00, 2.34354486e+00,\n",
       "       2.28690508e+00, 2.23215230e+00, 2.17919376e+00, 2.12794268e+00,\n",
       "       2.07831780e+00, 2.03024294e+00, 1.98364657e+00, 1.93846154e+00,\n",
       "       1.89462467e+00, 1.85207653e+00, 1.81076109e+00, 1.77062557e+00,\n",
       "       1.73162011e+00, 1.69369766e+00, 1.65681374e+00, 1.62092624e+00,\n",
       "       1.58599535e+00, 1.55198330e+00, 1.51885432e+00, 1.48657445e+00,\n",
       "       1.45511147e+00, 1.42443475e+00, 1.39451518e+00, 1.36532508e+00,\n",
       "       1.33683808e+00, 1.30902909e+00, 1.28187418e+00, 1.25535055e+00,\n",
       "       1.22943644e+00, 1.20411107e+00, 1.17935461e+00, 1.15514810e+00,\n",
       "       1.13147341e+00, 1.10831321e+00, 1.08565091e+00, 1.06347063e+00,\n",
       "       1.04175714e+00, 1.02049587e+00, 9.99672828e-01, 9.79274611e-01,\n",
       "       9.59288347e-01, 9.39701682e-01, 9.20502749e-01, 9.01680149e-01,\n",
       "       8.83222924e-01, 8.65120537e-01, 8.47362853e-01, 8.29940120e-01,\n",
       "       8.12842948e-01, 7.96062298e-01, 7.79589460e-01, 7.63416042e-01,\n",
       "       7.47533953e-01, 7.31935392e-01, 7.16612835e-01, 7.01559020e-01,\n",
       "       6.86766938e-01, 6.72229822e-01, 6.57941137e-01, 6.43894567e-01,\n",
       "       6.30084011e-01, 6.16503570e-01, 6.03147541e-01, 5.90010406e-01,\n",
       "       5.77086828e-01, 5.64371641e-01, 5.51859845e-01, 5.39546599e-01,\n",
       "       5.27427215e-01, 5.15497149e-01, 5.03751999e-01, 4.92187500e-01,\n",
       "       4.80799515e-01, 4.69584035e-01, 4.58537167e-01, 4.47655140e-01,\n",
       "       4.36934289e-01, 4.26371062e-01, 4.15962006e-01, 4.05703772e-01,\n",
       "       3.95593104e-01, 3.85626842e-01, 3.75801913e-01, 3.66115333e-01,\n",
       "       3.56564199e-01, 3.47145691e-01, 3.37857065e-01, 3.28695652e-01,\n",
       "       3.19658858e-01, 3.10744156e-01, 3.01949089e-01, 2.93271265e-01,\n",
       "       2.84708355e-01, 2.76258091e-01, 2.67918266e-01, 2.59686727e-01,\n",
       "       2.51561380e-01, 2.43540183e-01, 2.35621146e-01, 2.27802330e-01,\n",
       "       2.20081844e-01, 2.12457846e-01, 2.04928536e-01, 1.97492163e-01,\n",
       "       1.90147016e-01, 1.82891426e-01, 1.75723766e-01, 1.68642447e-01,\n",
       "       1.61645918e-01, 1.54732666e-01, 1.47901211e-01, 1.41150112e-01,\n",
       "       1.34477958e-01, 1.27883373e-01, 1.21365012e-01, 1.14921561e-01,\n",
       "       1.08551737e-01, 1.02254283e-01, 9.60279745e-02, 8.98716120e-02,\n",
       "       8.37840234e-02, 7.77640628e-02, 7.18106094e-02, 6.59225671e-02,\n",
       "       6.00988639e-02, 5.43384509e-02, 4.86403020e-02, 4.30034130e-02,\n",
       "       3.74268013e-02, 3.19095053e-02, 2.64505836e-02, 2.10491146e-02,\n",
       "       1.57041961e-02, 1.04149446e-02, 5.18049503e-03, 0.00000000e+00])"
      ]
     },
     "execution_count": 52,
     "metadata": {},
     "output_type": "execute_result"
    }
   ],
   "source": [
    "z_list"
   ]
  },
  {
   "cell_type": "code",
   "execution_count": 53,
   "id": "066aa92f-ea99-4121-8a3b-17f81395b3c1",
   "metadata": {},
   "outputs": [],
   "source": [
    "target_redshifts = np.array(redshifts)\n",
    "simulation_redshifts = np.array(z_list)"
   ]
  },
  {
   "cell_type": "code",
   "execution_count": 54,
   "id": "8a3559cb-9bfd-4e7f-b0fd-b9efd1852e1a",
   "metadata": {},
   "outputs": [],
   "source": [
    "# Function to find the index of the closest snapshot\n",
    "def find_closest_snapshot_indices(target_redshifts, simulation_redshifts):\n",
    "    closest_indices = []\n",
    "    for target_z in target_redshifts:\n",
    "        # Calculate the absolute difference\n",
    "        differences = np.abs(simulation_redshifts - target_z)\n",
    "        \n",
    "        # Find the index of the minimum difference\n",
    "        closest_index = np.argmin(differences)\n",
    "        closest_indices.append(closest_index)\n",
    "    \n",
    "    return closest_indices"
   ]
  },
  {
   "cell_type": "code",
   "execution_count": 55,
   "id": "4b325d72-c804-41e8-8e4f-181e23d64c3c",
   "metadata": {},
   "outputs": [],
   "source": [
    "closest_snapshot_indices = find_closest_snapshot_indices(target_redshifts, simulation_redshifts)"
   ]
  },
  {
   "cell_type": "code",
   "execution_count": 56,
   "id": "9bed7b06-c0ab-4d91-b4e5-25cc6eb240d3",
   "metadata": {},
   "outputs": [
    {
     "data": {
      "text/plain": [
       "[0, 36, 59, 79, 98, 116, 134, 152, 171, 191]"
      ]
     },
     "execution_count": 56,
     "metadata": {},
     "output_type": "execute_result"
    }
   ],
   "source": [
    "closest_snapshot_indices"
   ]
  },
  {
   "cell_type": "code",
   "execution_count": null,
   "id": "cf7637b8-35e7-444e-abf8-f0738f7a0167",
   "metadata": {},
   "outputs": [],
   "source": []
  }
 ],
 "metadata": {
  "kernelspec": {
   "display_name": "Python 3 (ipykernel)",
   "language": "python",
   "name": "python3"
  },
  "language_info": {
   "codemirror_mode": {
    "name": "ipython",
    "version": 3
   },
   "file_extension": ".py",
   "mimetype": "text/x-python",
   "name": "python",
   "nbconvert_exporter": "python",
   "pygments_lexer": "ipython3",
   "version": "3.10.12"
  }
 },
 "nbformat": 4,
 "nbformat_minor": 5
}

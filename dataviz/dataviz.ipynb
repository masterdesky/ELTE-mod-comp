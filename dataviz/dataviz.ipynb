{
 "cells": [
  {
   "cell_type": "markdown",
   "id": "b573a90f-5f5c-44de-b25c-75da3f661eaf",
   "metadata": {
    "tags": []
   },
   "source": [
    "<div align=\"center\">\n",
    "  <img src=\"img/viz.png\"></img>\n",
    "</div>\n",
    "<table border=\"0\">\n",
    "  <tr>\n",
    "    <td style=\"width:20%\"><pre><b style=\"font-size:16px\">a) 4D complex function</b></pre></td>\n",
    "    <td style=\"width:20%\"><pre><b style=\"font-size:16px\">b) Mandelbrot set</b></pre></td>\n",
    "    <td style=\"width:20%\"><pre><b style=\"font-size:16px\">c) Particle trajections in an N-body simulation</b></pre></td>\n",
    "    <td style=\"width:20%\"><pre><b style=\"font-size:16px\">d) Prime numbers in polar coordinates</b></pre></td>\n",
    "    <td style=\"width:20%\"><pre><b style=\"font-size:16px\">e) Clifford attractor</b></pre></td>\n",
    "  </tr>\n",
    "</table>\n",
    "\n",
    "# Data visualisation\n",
    "\n",
    "## Content\n",
    "1. [Introduction](#introduction)\n",
    "2. [Motivation](#motivation)\n",
    "3. [What makes a figure good?](#basics)\n",
    "4. [What can visualization reveal? $-$ An interesting example](#nr)\n",
    "    1. [Newton$-$Raphson method for real roots](#nr-real)\n",
    "    2. [Newton$-$Raphson method for complex roots](#nr-complex)\n",
    "    3. [What if we use an entire grid of points?](#nr-grid)\n",
    "    4. [Color the points based on which root is the nearest to them!](#nr-grid-colored-1)\n",
    "    5. [Color the points of the starting grid based on the colors of the Nth step!](#nr-grid-colored-2)\n",
    "    6. [Increase the resolution to see the hidden picture](#nr-fractal)\n",
    "5. [Tips and tricks you may not know](#tips-and-trick)\n",
    "    1. [Colormaps](#colormaps)\n",
    "    2. [Use the built-in functions](#built-in)\n",
    "    3. [Using Google and the docs](#google-and-docs)\n",
    "6. [Outlook](#outlook)\n",
    "    1. [Manim](#manim)\n",
    "    2. [Datashader](#datashader)\n",
    "    3. [Bokeh/Plotly](#bokeh_plotly)\n",
    "    4. [Processing](#processing)"
   ]
  },
  {
   "cell_type": "code",
   "execution_count": null,
   "id": "027cac6d-cfad-4a8a-aa66-e7d51ec13053",
   "metadata": {},
   "outputs": [],
   "source": [
    "%load_ext autoreload\n",
    "%autoreload 2"
   ]
  },
  {
   "cell_type": "markdown",
   "id": "96606ead-c277-4c2e-8b59-47869512e0d2",
   "metadata": {
    "tags": []
   },
   "source": [
    "## I. Introduction <a name=\"introduction\"></a>\n",
    "\n",
    "<p style=\"font-size:16px\">\n",
    "Data visualisation is a broad and vaguely defined topic. Although, for example, students/workers in STEM fields may first think of it in terms of their own discipline, it is not actually specific to any one of them. Data visualisation is used in all fields in all different forms, be it a scientific paper, a presentation at a company or a visualisation of the file structure of a software's source code. The list is endless. Depending on the field of use and the purpose, there are countless software and tools available for \"data visualization\". There's so much already that even a minor piece of it would be a lengthy process to master.\n",
    "<br/><br/>\n",
    "As it goes for anything nowadays, you can't learn everything...\n",
    "<br/><br/>\n",
    "Listening to those people who paved the way and selecting the right instruments from the vast arsenal available based on their experience is certainly the smart way to approach here. Yet, mastering the \"theory\" behind what elevates a visualization from a pretty sad looking doodle to something remarkable is an infinitely more fundamental skill. Software is temporary, but Shrek is forever.\n",
    "<br/><br/>\n",
    "The purpose of this entire Notebook would be to provide at least a little extra insight into the rather wide world of visualization. It is also intended to give some extra motivation to get people to learn to make at least a bit more nice-looking diagrams and visualisations than the default settings of basic Python visualisation packages.\n",
    "</p>"
   ]
  },
  {
   "cell_type": "code",
   "execution_count": null,
   "id": "e2884ab0-a53f-4508-96a7-9fd0923179b7",
   "metadata": {},
   "outputs": [],
   "source": [
    "from intro import *"
   ]
  },
  {
   "cell_type": "code",
   "execution_count": null,
   "id": "8f7a8da8-f506-4cae-8d6a-00c93350a216",
   "metadata": {},
   "outputs": [],
   "source": [
    "intro_figures()"
   ]
  },
  {
   "cell_type": "markdown",
   "id": "2cc03761-ec83-4952-86ea-44d40c6cea27",
   "metadata": {
    "tags": []
   },
   "source": [
    "## II. Motivation <a name=\"motivation\"></a>\n",
    "\n",
    "<p style=\"font-size:16px\">\n",
    "Okay, but why would you even learn new methods and techniques in the first placeto improve our figures? Why isn't the default settings of e.g. `matplotlib` enough?\n",
    "<br/><br/>    \n",
    "Here is an example that compares two visualisations of the same data set of the Betelgeuse light curve. Both images below show the same data series, but I put more effort into one of the images. Can you find which one was that?\n",
    "</p>"
   ]
  },
  {
   "cell_type": "code",
   "execution_count": null,
   "id": "ef229ddc-8b80-4a9a-8047-7d3df4a6c649",
   "metadata": {},
   "outputs": [],
   "source": [
    "import pandas as pd\n",
    "from betelgeuse.data import fetch_data, aggregate_data, filter_data\n",
    "\n",
    "from betelgeuse.plotter import *"
   ]
  },
  {
   "cell_type": "code",
   "execution_count": null,
   "id": "dbca0799-4861-4ea0-89f5-2190eff87cbc",
   "metadata": {},
   "outputs": [],
   "source": [
    "%%time\n",
    "jd, mag = fetch_data(10, 40)"
   ]
  },
  {
   "cell_type": "code",
   "execution_count": null,
   "id": "a650a8e8-3923-46c4-8108-eb5b17a6afde",
   "metadata": {},
   "outputs": [],
   "source": [
    "data = aggregate_data(jd, mag)\n",
    "data = filter_data(data,\n",
    "                   min_date=pd.Timestamp('2019-01-01'),\n",
    "                   max_date=pd.Timestamp('2023-10-01'),\n",
    "                   max_std=1)"
   ]
  },
  {
   "cell_type": "code",
   "execution_count": null,
   "id": "3b16c442-ab11-4b02-83d9-bc34e82993bd",
   "metadata": {},
   "outputs": [],
   "source": [
    "plot_1(data)"
   ]
  },
  {
   "cell_type": "code",
   "execution_count": null,
   "id": "05144a9a-bcb6-4720-9d3d-d971458057c2",
   "metadata": {},
   "outputs": [],
   "source": [
    "plot_2(data)"
   ]
  },
  {
   "cell_type": "markdown",
   "id": "7adf0bc3-8fbb-42ce-b274-72e32ba3d675",
   "metadata": {},
   "source": [
    "### The problem with motivation\n",
    "\n",
    "<p style=\"font-size:16px\">\n",
    "In the overwhelming majority of time during your studies, when you have to create a figure for an assignment/homework/lab report/etc., you are not motivated to make something that looks professional or nice even. (At least most people do not have the motivation for something like that.) This is extremely common, this should not sound new or suprising to anyone. However, if you do not start actively focusing on actually making nice figures for required submissions or for anything else, you will be left behind. By the time you get to work on a job or on writing articles, it is already almost too late. It will be painful to catch up in as short period of time as possible, while having to perform in other areas at maximum capacity.\n",
    "<br/><br/>\n",
    "Naturally not everyone can do this. This is the reason why we are seeing more and more articles, where the figures are simply ugly and unprofessional. They always show that clearly very little time end effort were invested into their making.\n",
    "</p>"
   ]
  },
  {
   "cell_type": "markdown",
   "id": "f04ac3c1-d5cd-4654-b43d-88b22d106814",
   "metadata": {},
   "source": [
    "<div style=\"text-align: center;\">\n",
    "    <img src=\"img/bad_1.jpg\" style=\"width: 25%; display: inline-block;\">\n",
    "    <img src=\"img/bad_2.jpg\" style=\"width: 25%; display: inline-block;\">\n",
    "    <img src=\"img/bad_3.jpg\" style=\"width: 24%; display: inline-block;\">\n",
    "    <img src=\"img/bad_4.jpg\" style=\"width: 25%; display: inline-block;\">\n",
    "</div>"
   ]
  },
  {
   "cell_type": "markdown",
   "id": "002b7572-5e64-4a11-8e17-9cb8bca7e299",
   "metadata": {},
   "source": [
    "### How to even learn visualization?\n",
    "\n",
    "<p style=\"font-size:16px\">\n",
    "Míg mindenki számára más és más módszerek válnak be a legkülönfélébb dolgok tanulásához, addig a vizualizáció esetében érdemes észben tartani, hogy ez az egész tulajdonképpen programozás. Ahogy bármilyen programkód megírásakor is az a lényeg, hogy az ember tisztában legyen a rendelkezésére álló eszközökkel, azok használatával és a felmerülő problémák kezelésével és az azokhoz való hozzáállással, úgy a vizualizáció esetében is pontosan ezeket kell szem előtt tartani mind a tanulás, mind a munka során.\n",
    "<br><br>\n",
    "A fentieket figyelembe véve, a szép ábrák készítéséhez két általános módszert vethetünk be. Az első, hogy az ember folyamatosan nyitott szemmel jár, ha lát egy cikkben, vagy bárhol az interneten egy tetszetős vizualizációt, akkor megnézi alaposan és megpróbál tanulni belőle. A természettudománynál maradva -- ha már fizikásoknak készül ez az egész -- a cikkekben levő ábrákon megnézhetjük pl, hogy milyen színeket, vagy milyen színgradienst használtak az ábrához (ez talán, ami először feltűnik bárkinek). Utána: milyenek a tengelyfeliratok? Mekkorák a betűk az ábrához képest? Milyen formátumúak a tengelyek mentén található számok? Ha pl. ezek nagyon nagy, vagy nagyon kicsi számok, azok hogyan vannak jelölve? Vannak-e rácsvonalak? Ha igen, milyen színűek, mennyire áttetszőek, milyen vastagok? Szaggatott vonalak-e, vagy simák? És lehetne még tovább sorolni mennyi mindent meg lehet alaposan figyelni bármilyen grafikonon. Minél több ilyet lát az ember, annál jobban fogja tudni ezeket az információkat a saját ábráira is extrapolálni és a megfigyelteket így magától is alkalmazni.\n",
    "</p>"
   ]
  },
  {
   "cell_type": "markdown",
   "id": "bc28b201-b02f-4494-9aa1-55c15ae74ae7",
   "metadata": {},
   "source": [
    "## III. What makes a figure \"good\"? <a name=\"basics\"></a>"
   ]
  },
  {
   "cell_type": "markdown",
   "id": "50258a2e-4944-4498-bced-9d686415b43d",
   "metadata": {},
   "source": [
    "### Make an impression with depth"
   ]
  },
  {
   "cell_type": "code",
   "execution_count": null,
   "id": "f70df54f-eac4-49e5-97bc-bffac7e1dba9",
   "metadata": {},
   "outputs": [],
   "source": [
    "from basics.figure_parts import figure_parts"
   ]
  },
  {
   "cell_type": "code",
   "execution_count": null,
   "id": "472d72d5-440d-450e-bd1a-10099f22a9ff",
   "metadata": {},
   "outputs": [],
   "source": [
    "%%time\n",
    "figure_parts()"
   ]
  },
  {
   "cell_type": "markdown",
   "id": "81b42637-b850-4dc6-b75e-6888f227d1e5",
   "metadata": {},
   "source": [
    "### Make an impression with variety"
   ]
  },
  {
   "cell_type": "code",
   "execution_count": null,
   "id": "4e0ed811-801b-423e-9937-fe1ad2ecc36f",
   "metadata": {},
   "outputs": [],
   "source": [
    "from basics.figure_types import figure_types"
   ]
  },
  {
   "cell_type": "code",
   "execution_count": null,
   "id": "4133dfe4-4e53-41c5-88be-497b83ea5e41",
   "metadata": {},
   "outputs": [],
   "source": [
    "%%time\n",
    "figure_types(N=20)"
   ]
  },
  {
   "cell_type": "markdown",
   "id": "dc7736c6",
   "metadata": {},
   "source": [
    "#### **Avoid \"Chartjunk\"**\n",
    "**Source**: Rougier, N. P., Droettboom, M., & Bourne, P. E. (2014). Ten simple rules for better figures. PLoS computational biology, 10(9), e1003833.\n",
    "\n",
    "<div style=\"text-align: center;\">\n",
    "    <img src=\"img/bad-v-good-1.png\" style=\"width: 100%; display: inline-block;\">\n",
    "</div>"
   ]
  },
  {
   "cell_type": "code",
   "execution_count": null,
   "id": "b82ff91b",
   "metadata": {},
   "outputs": [],
   "source": []
  },
  {
   "cell_type": "markdown",
   "id": "8c153a18-4c91-4007-b17d-91b3b87a607e",
   "metadata": {},
   "source": [
    "\n",
    "\n",
    "\n",
    "#### **Use variety in a way that does not mislead the reader**\n",
    "**Source**: Rougier, N. P., Droettboom, M., & Bourne, P. E. (2014). Ten simple rules for better figures. PLoS computational biology, 10(9), e1003833.\n",
    "\n",
    "<div style=\"text-align: center;\">\n",
    "    <img src=\"img/bad-v-good-2.png\" style=\"width: 100%; display: inline-block;\">\n",
    "</div>"
   ]
  },
  {
   "cell_type": "code",
   "execution_count": null,
   "id": "2ec8cab2",
   "metadata": {},
   "outputs": [],
   "source": []
  },
  {
   "cell_type": "markdown",
   "id": "c41117f3-23c2-4086-a34f-efa92f6b5a0e",
   "metadata": {},
   "source": [
    "## IV. What can visualization reveal? $-$ An interesting example <a name=\"nr\"></a>"
   ]
  },
  {
   "cell_type": "code",
   "execution_count": null,
   "id": "8b01a558-c71c-44a1-bba2-1f99b389b166",
   "metadata": {},
   "outputs": [],
   "source": [
    "from newton.polynomial import Polynomial"
   ]
  },
  {
   "cell_type": "markdown",
   "id": "8707156a-c97c-457d-9bf4-9bb0683ccb9d",
   "metadata": {},
   "source": [
    "### Newton$-$Raphson method for real roots <a name=\"nr-real\"></a>"
   ]
  },
  {
   "cell_type": "code",
   "execution_count": null,
   "id": "9f4cc9c6-5243-4e92-9827-c2f909d8fd96",
   "metadata": {},
   "outputs": [],
   "source": [
    "from newton.demo.real import NR_real"
   ]
  },
  {
   "cell_type": "code",
   "execution_count": null,
   "id": "01ddc481-21cb-496e-b603-f53226a95c88",
   "metadata": {},
   "outputs": [],
   "source": [
    "P = Polynomial(c=[2, 5, -14, -2])\n",
    "NR_real(P)"
   ]
  },
  {
   "cell_type": "markdown",
   "id": "8cc8ae2e-573f-4e24-9890-47c516f0aa71",
   "metadata": {},
   "source": [
    "<p style=\"font-size:16px\">\n",
    "The above steps are repeated until the intersection of the tangent and the X-axis coincides with one of the roots. It is an iterative process where each next step is determined by the result of the previous one. The location of the new point $x_{n+1}$ obtained in each step can be expressed as follows:\n",
    "<br>\n",
    "$$\n",
    "    x_{n+1}\n",
    "    =\n",
    "    x_{n} - \\frac{\\mathcal{P} \\left( x_{n} \\right)}{\\mathcal{P}\\,' \\left( x_{n} \\right)}\n",
    "$$\n",
    "</p>"
   ]
  },
  {
   "cell_type": "markdown",
   "id": "f8033433-1e54-4160-bb62-6a4bce26c32c",
   "metadata": {},
   "source": [
    "### Newton$-$Raphson method for complex roots <a name=\"nr-complex\"></a>"
   ]
  },
  {
   "cell_type": "code",
   "execution_count": null,
   "id": "0757fc9a-aee1-436b-a346-a876b492f5f5",
   "metadata": {},
   "outputs": [],
   "source": [
    "from newton.demo.complex import NR_complex_example"
   ]
  },
  {
   "cell_type": "code",
   "execution_count": null,
   "id": "32b03cbf-4ebb-471c-b40b-3ca3e605ad6c",
   "metadata": {},
   "outputs": [],
   "source": [
    "P = Polynomial(c=[1, 0, 0, 1, -1, 1])\n",
    "grid_lim = None\n",
    "NR_complex_example(P, grid_lim=grid_lim)"
   ]
  },
  {
   "cell_type": "code",
   "execution_count": null,
   "id": "39305638-2c06-4400-a091-45453e3863bf",
   "metadata": {},
   "outputs": [],
   "source": [
    "from newton.demo.complex import NR_complex_method"
   ]
  },
  {
   "cell_type": "code",
   "execution_count": null,
   "id": "a56560f9-9709-4b33-abec-8a15efaf0dc5",
   "metadata": {},
   "outputs": [],
   "source": [
    "NR_complex_method(P, x_0=(0.49+0.56j), grid_lim=grid_lim)"
   ]
  },
  {
   "cell_type": "markdown",
   "id": "859355e3-d754-48ef-a407-be690d032f6b",
   "metadata": {},
   "source": [
    "### What if we use an entire grid of points? <a name=\"nr-grid\"></a>"
   ]
  },
  {
   "cell_type": "code",
   "execution_count": null,
   "id": "1b337fce-f1fb-4c1c-b494-37439a044e68",
   "metadata": {},
   "outputs": [],
   "source": [
    "from newton.fractal import NR_fractal_steps_gray"
   ]
  },
  {
   "cell_type": "code",
   "execution_count": null,
   "id": "e6cec676-c1df-4b4c-962d-65a3c4ba862f",
   "metadata": {},
   "outputs": [],
   "source": [
    "N = 64"
   ]
  },
  {
   "cell_type": "code",
   "execution_count": null,
   "id": "2ec9e0d0-bcd7-46e6-b6b3-cfe6082742a5",
   "metadata": {},
   "outputs": [],
   "source": [
    "%%time\n",
    "NR_fractal_steps_gray(P, N=N,\n",
    "                      steps=[1,2,3,4,5],\n",
    "                      grid_lim=grid_lim)"
   ]
  },
  {
   "cell_type": "markdown",
   "id": "c0645e35-7fb5-4959-8dd8-b6feefbed6de",
   "metadata": {},
   "source": [
    "### Color the points based on which root is the nearest to them! <a name=\"nr-grid-colored-1\"></a>\n",
    "<p style=\"font-size:16px\">\n",
    "    To get an idea visually, which point belongs to which root, the grid points are now colored in each iteration. We assign different colors to each root, and then we calculate which point is closest to which root. Each point is then colored with the color of the root closest to it. After completing various numbers of iterations, a colored figure can be created for all of them, which shows both the current position of the original grid points and the closest root to it in the given iteration.\n",
    "<br><br>\n",
    "For the coloring, I used one of the colormaps in the <code>seaborn</code> package, which I defined with the following function:\n",
    "</p>\n",
    "\n",
    "```python\n",
    "def get_cmap():  \n",
    "    return sns.color_palette(\"ch:s=-.2,r=.6\", as_cmap=True)\n",
    "```\n",
    "<p style=\"font-size:16px\">\n",
    "Colormaps available in <code>seaborn</code> can be found in the package documentation: <a href=\"https://seaborn.pydata.org/tutorial/color_palettes.html#sequential-color-palettes\">Seaborn colormaps</a>.\n",
    "</p>"
   ]
  },
  {
   "cell_type": "code",
   "execution_count": null,
   "id": "896504c5-80f8-4a12-8d2a-4ab04e27ee96",
   "metadata": {},
   "outputs": [],
   "source": [
    "from newton.fractal import NR_fractal_steps_colored"
   ]
  },
  {
   "cell_type": "code",
   "execution_count": null,
   "id": "676c977d-447e-4a01-84ea-91d9db929b52",
   "metadata": {},
   "outputs": [],
   "source": [
    "%%time\n",
    "NR_fractal_steps_colored(P, N=N,\n",
    "                         steps=[1,2,3,4,5],\n",
    "                         grid_lim=grid_lim)"
   ]
  },
  {
   "cell_type": "markdown",
   "id": "c857485d-d483-4aa7-a477-b7ecdfacc27c",
   "metadata": {
    "tags": []
   },
   "source": [
    "### Color the points of the starting grid based on the colors of the Nth step! <a name=\"nr-grid-colored-2\"></a>\n",
    "<p style=\"font-size:16px\">\n",
    "    ...\n",
    "</p>"
   ]
  },
  {
   "cell_type": "code",
   "execution_count": null,
   "id": "68597302-ade0-4209-9ba0-9a8eda100bde",
   "metadata": {},
   "outputs": [],
   "source": [
    "from newton.fractal import NR_fractal_steps_reversed"
   ]
  },
  {
   "cell_type": "code",
   "execution_count": null,
   "id": "ebc527c7-52f2-4e5e-8b72-ca18d3d6b334",
   "metadata": {},
   "outputs": [],
   "source": [
    "%%time\n",
    "NR_fractal_steps_reversed(P, N=N,\n",
    "                          steps=[1,2,3,4,5],\n",
    "                          grid_lim=grid_lim)"
   ]
  },
  {
   "cell_type": "markdown",
   "id": "df0de5aa-32bc-4800-8c2a-6cf3e7e41228",
   "metadata": {},
   "source": [
    "### Increase the resolution to see the hidden picture <a name=\"nr-fractal\"></a>"
   ]
  },
  {
   "cell_type": "markdown",
   "id": "d5470a12-f6d3-4622-b1d0-f44ad2615b97",
   "metadata": {},
   "source": [
    "<p style=\"font-size:16px\">\n",
    "    Although some interesting-looking shapes are faintly visible on the colourful grid of points, unfortunately not much detail can be discerned. However, increasing the resolution reveals what we are dealing with...\n",
    "<br/><br/>\n",
    "    Using a much finer grid of $256 \\times 256$ grid points instead of $64 \\times 64$ like above, an intricate pattern emerges that we call the Newton$-$Raphson fractal. As we take more and more steps with the Newton$-$Raphson method, the Newton$-$Raphson fractal becomes more and more detailed on smaller scales, increasing its \"depth\" on every new step. The true fractal pattern would emerge if and only if we would use an infinitely fine-grained resolution for the grid and take infinite amount of steps with the Newton$-$Raphson method.\n",
    "</p>"
   ]
  },
  {
   "cell_type": "code",
   "execution_count": null,
   "id": "bf5ac6bd-2926-4ade-8c95-a14c5e5c1217",
   "metadata": {},
   "outputs": [],
   "source": [
    "%%time\n",
    "NR_fractal_steps_reversed(P, N=256,\n",
    "                          steps=[1,2,3,4,5],\n",
    "                          grid_lim=grid_lim)"
   ]
  },
  {
   "cell_type": "code",
   "execution_count": null,
   "id": "f895d997-6220-4a6e-91d0-31be80858aff",
   "metadata": {},
   "outputs": [],
   "source": [
    "from newton.fractal import NR_fractal"
   ]
  },
  {
   "cell_type": "code",
   "execution_count": null,
   "id": "bc850adb-62ce-4b25-a838-d1586514db4d",
   "metadata": {},
   "outputs": [],
   "source": [
    "# Possible zooming locations\n",
    "grid_lims = (\n",
    "  ((-1.75,1.75),(-1.75,1.75)),\n",
    "  ((-1.5,1.5),(-1.5,1.5)),\n",
    "  ((-1.5,0),(-0.75,0.75)),\n",
    "  ((-1.2,-0.8),(0.0,0.4)),\n",
    "  ((-1.03,-0.99),(0.13,0.17)),\n",
    "  ((-1.009290,-1.009265),(0.147300,0.147325))\n",
    ")"
   ]
  },
  {
   "cell_type": "code",
   "execution_count": null,
   "id": "3b6697e0-6bb4-4cad-a520-7f4755d32fb3",
   "metadata": {},
   "outputs": [],
   "source": [
    "%%time\n",
    "gl = grid_lims[0]\n",
    "NR_fractal(P,\n",
    "           N=64, n_steps=50, figsize=(10, 10),\n",
    "           grid_lim_x=gl[0], grid_lim_y=gl[1],\n",
    "           axis=False, save=False)"
   ]
  },
  {
   "cell_type": "code",
   "execution_count": null,
   "id": "831bb8a1-adbe-4a03-ac7c-0c8159aec23d",
   "metadata": {},
   "outputs": [],
   "source": [
    "%%time\n",
    "gl = grid_lims[-1]\n",
    "NR_fractal(P,\n",
    "           N=64, n_steps=50, figsize=(10, 10),\n",
    "           grid_lim_x=gl[0], grid_lim_y=gl[1],\n",
    "           axis=False, save=False)"
   ]
  },
  {
   "cell_type": "markdown",
   "id": "f12ad99e-02a5-4fd0-968f-c2a54ab6401c",
   "metadata": {},
   "source": [
    "<p style=\"font-size:16px\">\n",
    "If you want to know more why this pattern arises here, watch the following <a href=\"https://www.youtube.com/@3blue1brown\">3b1b</a> videos:\n",
    "<br>\n",
    "<ol type=\"1\" style=\"font-size:16px\">\n",
    "  <li><a href=\"https://www.youtube.com/watch?v=-RdOwhmqP5s\">From Newton’s method to Newton’s fractal (which Newton knew nothing about) </a></li>\n",
    "  <li><a href=\"https://www.youtube.com/watch?v=LqbZpur38nw\">Beyond the Mandelbrot set, an intro to holomorphic dynamics </a></li>\n",
    "</ol>\n",
    "</p>"
   ]
  },
  {
   "cell_type": "markdown",
   "id": "9aafd038-037a-4cf5-84c6-5fd9701ed23c",
   "metadata": {},
   "source": [
    "## V. Tips and tricks you may not know <a name=\"tips-and-trick\"></a>"
   ]
  },
  {
   "cell_type": "markdown",
   "id": "9d52b889-efdc-4b50-be27-2007eb7ded5a",
   "metadata": {},
   "source": [
    "### Colormaps <a name=\"colormaps\"></a>\n",
    "\n",
    "#### **Perceptually uniform colormaps (PUCs)**\n",
    "<p style=\"font-size:16px\"><p style=\"font-size:16px\">\n",
    "This is the name given to colour gradients in which the human-perceived difference between two arbitrary colours is proportional to the distance between the two colours on the colour wheel, and the luminosity of successive values of the gradient is a monotonically increasing function.\n",
    "<br/><br/>\n",
    "Okay, this is not obvious to understand, so see the figure below. On the y-axis the \"luminosity\" is what the letter \"L\" in the HSL colour notation denotes. PUCs will demonstrate a linear dependence of luminosity on the color values they consist of.\n",
    "<br/><br/>\n",
    "The purpose of using PUCs is to provide a colour gradient that allows us to easily understand the data/quantities they represent, just by looking at them. These colormaps enables us to easily see the difference between two data points and their relative magnitude compared to other data in general.\n",
    "</p>"
   ]
  },
  {
   "cell_type": "code",
   "execution_count": null,
   "id": "e0c8fd54-a0dc-4a26-8fbd-84e98b1660d4",
   "metadata": {},
   "outputs": [],
   "source": [
    "from colormaps import *"
   ]
  },
  {
   "cell_type": "code",
   "execution_count": null,
   "id": "8b1c1c77-3c41-4e61-8a9f-c58127e47257",
   "metadata": {},
   "outputs": [],
   "source": [
    "puc_lightness()"
   ]
  },
  {
   "cell_type": "markdown",
   "id": "910c2cbd-dc44-4077-8376-bc1838eb8094",
   "metadata": {},
   "source": [
    "#### **Domain coloring $-$ an example use of PUCs**\n",
    "<div align=\"center\">\n",
    "  <img src=\"img/domain.png\" width=\"80%\"></img>\n",
    "</div>"
   ]
  },
  {
   "cell_type": "markdown",
   "id": "c6a779b9-84f1-4520-acad-9c0bbd5ab5e0",
   "metadata": {},
   "source": [
    "#### **Diverging colormaps**\n",
    "<p style=\"font-size:16px\">\n",
    "These colormaps are designed to highlight variations and transitions within datasets, such as temperature changes in a physical system or variations in magnetic field strength and many more. By using contrasting colors that diverge from a neutral midpoint, these colormaps enable us to quickly determine critical thresholds and anomalies in some data set.\n",
    "</p>"
   ]
  },
  {
   "cell_type": "markdown",
   "id": "b0c63cfa-41cd-498b-ba85-8d10570467f4",
   "metadata": {},
   "source": [
    "#### **World Development Indicators $-$ Diverging colormaps, Example 1.**\n",
    "<p style=\"font-size:16px\">\n",
    "    In this figure, each point represents a country, and the colours of the points represent their distance from the equator in degrees. Here, I have transformed the World Development Indicators data set for every country in the world to some 2-dimensional representation, using the t-SNE dimensionality reduction method. I obtained the six figures by varying one of the main driving parameters (\"perplexity\") of the t-SNE method. A well-known observation in economics is that closer to the equator, there is, on average, a lower development index. If this is true, we should see a strong indication of it in this low-dimensional representation. \n",
    "<br/><br/>\n",
    "    Although there are some outlier data, the economic observation in question shows up in these figures. We would like to see that points with vibrant colours separate from pale/faint-coloured points. This behaviour is exactly what we can see in these figures. Vibrant-coloured points group together, as well as pale-coloure\n",
    "</p>\n",
    "\n",
    "<div align=\"center\">\n",
    "  <img src=\"img/diverging_1.png\" width=\"90%\"></img>\n",
    "</div>"
   ]
  },
  {
   "cell_type": "markdown",
   "id": "d4107a0d-6f6d-4635-a9e3-71b5b356666e",
   "metadata": {},
   "source": [
    "#### **Principal Component Analysis $-$ Diverging colormaps, Example 2.**\n",
    "<p style=\"font-size:16px\">\n",
    "    Principal Component Analysis (PCA) aims to transform an N-dimensional data set $\\mathbf{X}$ into a new basis. The basis vectors of the new basis are determined by the variance of the original data series. The direction of the first basis vector, or so-called \"principal component\" (PC), is determined by the direction of the largest variance in the data series. All subsequent basis vectors/PCs are orthogonal to this and any previously defined basis vector. Their order is determined by the magnitude of the variance in their directions, starting from largest (1st PC) to smallest (Nth PC).\n",
    "<br/><br/>\n",
    "    In reality, the PCs are the eigenvectors of the covariance matrix of the data set $\\mathbf{X}$. If the eigenvectors are sorted by descending order based on their respective eigenvalues, we simply get back the PCs in order. The 1st PC has the largest corresponding eigenvalue, while the last PC has the smallest.\n",
    "<br/><br/>\n",
    "    Important note that PCs are linear combinations of the original basis vectors. (Same goes for any basis transformation in linear algebra, so it should not be so surprising.)\n",
    "</p>"
   ]
  },
  {
   "cell_type": "code",
   "execution_count": null,
   "id": "644eb6ac-ab3e-4290-afbd-aff96a163b26",
   "metadata": {},
   "outputs": [],
   "source": [
    "from pca import *"
   ]
  },
  {
   "cell_type": "code",
   "execution_count": null,
   "id": "7a12f0f9-74a3-4fb3-8b00-b92f19f6a404",
   "metadata": {},
   "outputs": [],
   "source": [
    "plot_pca(n_samples=5000, noise=5, pad=0.05)"
   ]
  },
  {
   "cell_type": "markdown",
   "id": "bb246369-11a4-451d-8b76-54c473ee310a",
   "metadata": {},
   "source": [
    "<p style=\"font-size:16px\">\n",
    "    In the figure below, you can see the results of my research on the time series of six popular cryptoassets (Popular at the time of the study.) I used PCA as a dimensionality reduction method to reduce the six time series into a 3-dimensional representation. In this figure, I have plotted the value of the scalar coefficients in the linear combination that produces the respective PCs for each cryptocurrency. Suppose we interpret these results in the context of feature selection. In that case, this figure shows how and to what extent a particular cryptocurrency influences the fluctuations in the price of cryptocurrencies in general. In the study, knowing whether this effect is positive (correlation) or negative (anticorrelation) was important. For this reason, it was given to indicated these values with a diverging colormap.\n",
    "</p>\n",
    "<div align=\"center\">\n",
    "  <img src=\"img/diverging_2.png\" width=\"80%\"></img>\n",
    "</div>"
   ]
  },
  {
   "cell_type": "markdown",
   "id": "3960a712-44a4-4777-8af8-efcc34a1b099",
   "metadata": {},
   "source": [
    "#### **Seaborn colormapek**\n",
    "\n",
    "<p style=\"font-size:16px\">\n",
    "    Besides being a specialized Python package built on top of <code>matplotlib</code>, <code>seaborn</code> also allows simple color gradient generation, but you can choose from many predefined and visually pleasing gradients too. Below is an example for arbitrary colormap generation using <code>seaborn</code>.\n",
    "</p>"
   ]
  },
  {
   "cell_type": "code",
   "execution_count": null,
   "id": "1c802cdb-5bc7-4b22-82da-00b893f9a719",
   "metadata": {},
   "outputs": [],
   "source": [
    "import numpy as np\n",
    "import seaborn as sns"
   ]
  },
  {
   "cell_type": "code",
   "execution_count": null,
   "id": "b196192f-d9d4-4b04-b440-7f932122adf2",
   "metadata": {},
   "outputs": [],
   "source": [
    "start = np.random.random(size=5)\n",
    "rot = np.random.random(size=5)\n",
    "for s, r in zip(start, rot):\n",
    "    sign = np.sign(np.random.random()-0.5)\n",
    "    display(sns.color_palette(f'ch:start={s*sign},rot={r*sign}', as_cmap=True))"
   ]
  },
  {
   "cell_type": "markdown",
   "id": "869a0931-adb7-4519-b33e-7f0fc67159df",
   "metadata": {},
   "source": [
    "### Use the built-in functions <a name=\"built-in\"></a>\n",
    "<p style=\"font-size:16px\">\n",
    "Codes that either do not use the built-in features or still use outdated code design are becoming more common. Beginners and professionals and everything in-between, regularly fall into the pitfall of <i>botched code</i> in scientific fields. (Actual sofware engineers are usually the only exception from this, but not entirely.) While most of the times botched code <i>could work</i> and it even produces many successful scientific results for multiple decades now, it is completely <i>useless</i>, because it is impossible to build upon. Which otherwise would be one of fundamental pillars of science... If you can not test nor build upon a theory, an experiment, an instrument or a simulation sofware, then it is simply worthless on the long run.\n",
    "</p>"
   ]
  },
  {
   "cell_type": "markdown",
   "id": "85e2a530-badf-45f1-87b4-0dd964a97655",
   "metadata": {
    "jp-MarkdownHeadingCollapsed": true
   },
   "source": [
    "#### **Subplots**\n",
    "<p style=\"font-size:16px\">\n",
    "Now, it obviously sounds a \"bit\" harsh, considering the examples below. However, one of the most fundamental rule of thumb of (scientific) coding should be to <b>always write usable code</b>. Even if you only need to worry about subplots...\n",
    "</p>\n",
    "\n",
    "```python\n",
    "# Instead of this...\n",
    "fig = plt.figure()\n",
    "ax = fig.add_axes([0, 0, 1, 1])\n",
    "\n",
    "# ...use this\n",
    "fig, ax = plt.subplots(number_of_rows, number_of_columns)\n",
    "```\n",
    "\n",
    "<div style=\"width:80%;margin: auto;\">\n",
    "    <p style=\"font-size:16px\">\n",
    "        <b>Source</b>:\n",
    "        <a href=\"https://twitter.com/abhisheksh_98/status/1256953937766174721\">https://twitter.com/abhisheksh_98/status/1256953937766174721</a>\n",
    "    </p>\n",
    "    <img src=\"img/subplots-chart.png\"></img>\n",
    "</div>"
   ]
  },
  {
   "cell_type": "markdown",
   "id": "4722d221-44dc-4f3f-a4b5-7b6f22ee0b2a",
   "metadata": {},
   "source": [
    "#### **Scatterplots**\n",
    "<p style=\"font-size:16px\">\n",
    "Another common error, where an archaic method is used to obtain a scatter plot. The <code>matplotlib</code> has a built-in <code>matplotlib.pyplot.scatter()</code> method for many-many years now...\n",
    "</p>\n",
    "\n",
    "```python\n",
    "# Instead of this...\n",
    "plt.plot(X, Y, marker='o')\n",
    "\n",
    "# ...use this\n",
    "plt.scatter(X, Y)\n",
    "```"
   ]
  },
  {
   "cell_type": "markdown",
   "id": "c9375e82-f155-499c-a0e7-96a30a82546a",
   "metadata": {
    "tags": []
   },
   "source": [
    "### Using Google, AI and the docs <a name=\"google-and-docs\"></a>\n",
    "<p style=\"font-size:16px\">\n",
    "    Most of the essential Python packages that people use on a daily basis are pretty well documented. To some extent, visualization packages are also just like this (e.g. <code>matplotlib</code> or <code>seaborn</code>). It is true that there are much better documented packages in general (such as <code>pandas</code> or <code>scikit-learn</code>)... However, the package documentations supplemented with <a href=\"https://chat.openai.com/\">ChatGPT</a> and <a href=\"https://stackoverflow.com/\">StackOverflow</a>, you are armed more than enough to use any package on a professional level.\n",
    "</p>\n",
    "<div align=\"center\">\n",
    "  <img src=\"img/chatgpt.png\" width=\"90%\"></img>\n",
    "</div>\n",
    "<br/><br/>\n",
    "<p style=\"font-size:16px\">\n",
    "    It's always a good idea to mark code snippets obtained from the Internet in the appropriate place, because it's easy to find where the idea came from and what the exact, original code snippet looked like. Here, for example, is the code I used to create the colorbar for my t-SNE diagram above, shown on the right-hand side of the figure:\n",
    "</p>\n",
    "<div align=\"center\">\n",
    "  <img src=\"img/stackoverflow.png\" width=\"90%\"></img>\n",
    "</div>\n",
    "<br/><br/>\n",
    "<p style=\"font-size:16px\">\n",
    "    Even developers of official packages rely on and cite StackOverflow. More specifically the rely on it heavily, and sometimes even cite it officially:\n",
    "</p>\n",
    "<div align=\"center\">\n",
    "  <img src=\"img/stackoverflow-matplotlib.png\" width=\"90%\"></img>\n",
    "</div>"
   ]
  },
  {
   "cell_type": "code",
   "execution_count": null,
   "id": "0846906f-d7a5-4b9a-9f05-8955940538b8",
   "metadata": {},
   "outputs": [],
   "source": [
    "import matplotlib.pyplot as plt"
   ]
  },
  {
   "cell_type": "code",
   "execution_count": null,
   "id": "6dfde1e3-b9e2-4aa9-9c05-d1eff03ef58f",
   "metadata": {},
   "outputs": [],
   "source": [
    "# Click inside the parenthesis and click shift + tab\n",
    "fig, axes = plt.subplots();"
   ]
  },
  {
   "cell_type": "markdown",
   "id": "383337ac-0fa5-41cd-ac11-0313f7a4ac55",
   "metadata": {},
   "source": [
    "## 6. Outlook <a name=\"outlook\"></a>"
   ]
  },
  {
   "cell_type": "markdown",
   "id": "920a9567-a17c-416d-8e9e-bc8dc11405cd",
   "metadata": {},
   "source": [
    "### Manim <a name=\"manim\"></a>\n",
    "\n",
    "<p style=\"font-size:16px\">\n",
    "A package that started as a project by Grant Sanderson (3b1b), today it is a package with a large developer community, the goal of which is to create mathematical, explanatory visualizations very easily, with a lot of built-in functions. This is really an animation package, so it is worth watching <a href=\"https://3b1b.github.io/manim/getting_started/example_scenes.html\">animations made with it</a>.\n",
    "</p>"
   ]
  },
  {
   "cell_type": "code",
   "execution_count": null,
   "id": "51a0be95",
   "metadata": {},
   "outputs": [],
   "source": [
    "import manim"
   ]
  },
  {
   "cell_type": "code",
   "execution_count": null,
   "id": "02442ebf",
   "metadata": {},
   "outputs": [],
   "source": [
    "%%manim -ql -v WARNING JupyterCellTest\n",
    "class JupyterCellTest(manim.Scene):\n",
    "    def construct(self):\n",
    "        tex1 = manim.Tex(r\"Manim on Korszám?\", font_size=121).shift(manim.UP)\n",
    "        tex2 = manim.Tex(r\"Even \\LaTeX??\", font_size=144).shift(manim.DOWN)\n",
    "        self.play(manim.Write(tex1))\n",
    "        self.play(manim.Write(tex2))\n",
    "        self.wait(0.5)\n"
   ]
  },
  {
   "cell_type": "code",
   "execution_count": null,
   "id": "c53c045f",
   "metadata": {},
   "outputs": [],
   "source": [
    "%%manim -ql -v WARNING TransformingCircles\n",
    "class TransformingCircles(manim.Scene):\n",
    "    def CustomCircle(self, color=manim.BLUE, fill_opacity=0.7):\n",
    "        return manim.Circle(color=color, fill_opacity=fill_opacity)\n",
    "    \n",
    "    def construct(self):\n",
    "        offset = 2.1\n",
    "        colors = [manim.YELLOW, manim.BLUE]\n",
    "        circles_up = [\n",
    "            self.CustomCircle(color=colors[i%2]).shift(offset*i*manim.RIGHT) \\\n",
    "                for i in range(5)]\n",
    "        circles_dw = [\n",
    "            self.CustomCircle(color=colors[i%2]).shift(offset*i*manim.RIGHT) \\\n",
    "                for i in range(5)]\n",
    "        circles_up = manim.VGroup(*circles_up).shift(offset*2*(len(circles_up)%2)*manim.LEFT)\n",
    "        circles_dw = manim.VGroup(*circles_dw).shift(offset*2*(len(circles_dw)%2)*manim.LEFT)\n",
    "\n",
    "        self.play(manim.Create(circles_up), run_time=2)\n",
    "        self.wait(0.3)\n",
    "        self.play(circles_up.animate.shift(1.75*manim.UP))"
   ]
  },
  {
   "cell_type": "markdown",
   "id": "ca3722d0-3ba8-4672-a2eb-bf963a080a66",
   "metadata": {},
   "source": [
    "### Datashader <a name=\"datashader\"></a>\n",
    "<p style=\"font-size:16px\">\n",
    "Ha nagyon sok adatpontunk van (akár több milliárd), akkor azokat nem tudjuk egyesével mind ábrázolni, főleg nem akkor, ha ezek pl. 3 dimenziósak. Ahhoz, hogy ezt áthidaljuk, szokás maguk az adatpontok helyett azok \"sűrűségét\", vagy \"projektált sűrűségét\" ábrázolni. A \"projektált sűrűség\" annyit takar, hogy ha egy kiválasztott irányból nézzük a 3D-s adatokat, akkor nagyon sok olyan pont lesz, amik egymással átfednek, de helyenként ritkásabb, vagy teljesen üres foltok is vannak. Ezt, mint \"sűrűség\" ábrázolva, ahol a nagyobb sűrűség a sok, míg a kisebb a kevés egymást átfedő pontot ábrázolja, megkapunk egy lehetséges, \"projektált sűrűséget\" mutató ábrát.\n",
    "<br><br>\n",
    "Ilyet tud a <code>matplotlib</code> is, de nagyon nem optimalizált a kódja és szörnyen lassú. Cserébe van egy külön csomag csak erre (és pár más dologra is), aminek <code>datashader</code> a neve. <a href=\"https://www.easyzoom.com/imageaccess/65cd4f4e19ef4565b13f0f8b9e76c5ca\">Itt egy példa</a> egy ilyen vizualizációról, amit <code>datashader</code>rel készítettem. Az ábrán a Gaia DR2-ben található 1.6 milliárd csillag pozícióját ábrázoltam.\n",
    "</p>"
   ]
  },
  {
   "cell_type": "markdown",
   "id": "d49a7dbb-23b5-46bc-bfda-aad661649ed3",
   "metadata": {},
   "source": [
    "### Bokeh/Plotly <a name=\"bokeh_plotly\"></a>\n",
    "<p style=\"font-size:16px\">\n",
    "    Coming soon...\n",
    "</p>"
   ]
  },
  {
   "cell_type": "markdown",
   "id": "e6ae12c9-ff9b-4b9a-bdc4-0220376f91b9",
   "metadata": {},
   "source": [
    "### Processing <a name=\"processing\"></a>\n",
    "\n",
    "<p style=\"font-size:16px\">\n",
    "    Coming soon...\n",
    "</p>"
   ]
  },
  {
   "cell_type": "code",
   "execution_count": null,
   "id": "86704f7d-3dc1-4525-a246-9dcd4e6a1052",
   "metadata": {},
   "outputs": [],
   "source": []
  }
 ],
 "metadata": {
  "kernelspec": {
   "display_name": "math",
   "language": "python",
   "name": "python3"
  },
  "language_info": {
   "codemirror_mode": {
    "name": "ipython",
    "version": 3
   },
   "file_extension": ".py",
   "mimetype": "text/x-python",
   "name": "python",
   "nbconvert_exporter": "python",
   "pygments_lexer": "ipython3",
   "version": "3.9.20"
  }
 },
 "nbformat": 4,
 "nbformat_minor": 5
}
